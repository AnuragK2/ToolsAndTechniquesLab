{
 "cells": [
  {
   "cell_type": "code",
   "execution_count": 1,
   "metadata": {},
   "outputs": [
    {
     "name": "stdout",
     "output_type": "stream",
     "text": [
      "starts\n",
      "s\n"
     ]
    }
   ],
   "source": [
    "mystring='Need to print out only the word which starts with s'\n",
    "for word in mystring.split():\n",
    "    if word[0]=='s':\n",
    "        print(word)"
   ]
  },
  {
   "cell_type": "code",
   "execution_count": 2,
   "metadata": {},
   "outputs": [
    {
     "name": "stdout",
     "output_type": "stream",
     "text": [
      "0 2 4 6 8 "
     ]
    }
   ],
   "source": [
    "for even_numbers in range(0,10,2):\n",
    "    print(even_numbers,end=' ')"
   ]
  },
  {
   "cell_type": "code",
   "execution_count": 3,
   "metadata": {},
   "outputs": [
    {
     "name": "stdout",
     "output_type": "stream",
     "text": [
      "[3, 6, 9, 12, 15, 18, 21, 24, 27, 30, 33, 36, 39, 42, 45, 48]\n"
     ]
    }
   ],
   "source": [
    "my_lst = [x for x in range(1, 51) if x % 3 == 0]\n",
    "print(my_lst)"
   ]
  },
  {
   "cell_type": "code",
   "execution_count": 4,
   "metadata": {},
   "outputs": [
    {
     "name": "stdout",
     "output_type": "stream",
     "text": [
      "word\n",
      "in\n",
      "this\n",
      "sentence\n",
      "that\n",
      "an\n",
      "even\n",
      "of\n"
     ]
    }
   ],
   "source": [
    "n=\"Print every word in this sentence that has an even numbers of letters\"\n",
    "s=n.split(\" \")\n",
    "for i in s:\n",
    " if len(i)%2==0:\n",
    "    print(i)"
   ]
  },
  {
   "cell_type": "code",
   "execution_count": 5,
   "metadata": {},
   "outputs": [
    {
     "name": "stdout",
     "output_type": "stream",
     "text": [
      "fizzBuzz\n",
      "1\n",
      "2\n",
      "fizz\n",
      "4\n",
      "buzz\n",
      "fizz\n",
      "7\n",
      "8\n",
      "fizz\n",
      "buzz\n",
      "11\n",
      "fizz\n",
      "13\n",
      "14\n",
      "fizzBuzz\n",
      "16\n",
      "17\n",
      "fizz\n",
      "19\n",
      "buzz\n",
      "fizz\n",
      "22\n",
      "23\n",
      "fizz\n",
      "buzz\n",
      "26\n",
      "fizz\n",
      "28\n",
      "29\n",
      "fizzBuzz\n",
      "31\n",
      "32\n",
      "fizz\n",
      "34\n",
      "buzz\n",
      "fizz\n",
      "37\n",
      "38\n",
      "fizz\n",
      "buzz\n",
      "41\n",
      "fizz\n",
      "43\n",
      "44\n",
      "fizzBuzz\n",
      "46\n",
      "47\n",
      "fizz\n",
      "49\n",
      "buzz\n",
      "fizz\n",
      "52\n",
      "53\n",
      "fizz\n",
      "buzz\n",
      "56\n",
      "fizz\n",
      "58\n",
      "59\n",
      "fizzBuzz\n",
      "61\n",
      "62\n",
      "fizz\n",
      "64\n",
      "buzz\n",
      "fizz\n",
      "67\n",
      "68\n",
      "fizz\n",
      "buzz\n",
      "71\n",
      "fizz\n",
      "73\n",
      "74\n",
      "fizzBuzz\n",
      "76\n",
      "77\n",
      "fizz\n",
      "79\n",
      "buzz\n",
      "fizz\n",
      "82\n",
      "83\n",
      "fizz\n",
      "buzz\n",
      "86\n",
      "fizz\n",
      "88\n",
      "89\n",
      "fizzBuzz\n",
      "91\n",
      "92\n",
      "fizz\n",
      "94\n",
      "buzz\n",
      "fizz\n",
      "97\n",
      "98\n",
      "fizz\n",
      "buzz\n"
     ]
    }
   ],
   "source": [
    "for fizz_buzz in range(101):\n",
    "    if fizz_buzz % 3 == 0 and fizz_buzz % 5 == 0:\n",
    "        print(\"fizzBuzz\")\n",
    "        continue\n",
    "    elif fizz_buzz % 3 == 0:\n",
    "        print(\"fizz\")\n",
    "        continue\n",
    "    elif fizz_buzz % 5 == 0:\n",
    "        print(\"buzz\")\n",
    "        continue\n",
    "    print(fizz_buzz)\n"
   ]
  },
  {
   "cell_type": "code",
   "execution_count": 6,
   "metadata": {},
   "outputs": [
    {
     "name": "stdout",
     "output_type": "stream",
     "text": [
      "['H', 'H', 'y', 'd']\n"
     ]
    }
   ],
   "source": [
    "mystring = \"Hello! How you do'in\" \n",
    "myList = [word[0] for word in mystring.split()]\n",
    "print(myList)"
   ]
  },
  {
   "cell_type": "code",
   "execution_count": 1,
   "metadata": {},
   "outputs": [],
   "source": [
    "num = int(input(\"Enter 3-digit number : \"))\n",
    "sum = 0\n",
    "temp = num\n",
    "while temp > 0:\n",
    "    digit = temp % 10\n",
    "    sum += digit * digit * digit\n",
    "    temp = temp//10\n",
    "if sum==num:\n",
    "    print('It is an Armstrong number')\n",
    "else:\n",
    "    print('It is not an Armstrong number')"
   ]
  },
  {
   "cell_type": "code",
   "execution_count": null,
   "metadata": {},
   "outputs": [],
   "source": [
    "n=int(input(\"Enter number:\"))\n",
    "temp=n\n",
    "rev=0\n",
    "while(n>0):\n",
    "    dig=n%10\n",
    "    rev=rev*10+dig\n",
    "    n=n//10\n",
    "if(temp==rev):\n",
    "    print(\"The number is a palindrome!\")\n",
    "else:\n",
    "    print(\"The number isn't a palindrome!\")"
   ]
  },
  {
   "cell_type": "code",
   "execution_count": 1,
   "metadata": {},
   "outputs": [
    {
     "name": "stdout",
     "output_type": "stream",
     "text": [
      "Yes\n"
     ]
    }
   ],
   "source": [
    "def isPalindrome(s):\n",
    "    return s == s[::-1]\n",
    "s = \"malayalam\"\n",
    "ans = isPalindrome(s)\n",
    "if ans:\n",
    "    print(\"Yes\")\n",
    "else:\n",
    "    print(\"No\")"
   ]
  },
  {
   "cell_type": "code",
   "execution_count": null,
   "metadata": {},
   "outputs": [],
   "source": [
    "n = int(input(\"Enter any number: \"))\n",
    "sum1 = 0\n",
    "for i in range(1, n):\n",
    "    if(n % i == 0):\n",
    "        sum1 = sum1 + i\n",
    "if (sum1 == n):\n",
    "    print(\"The number is a Perfect number!\")\n",
    "else:\n",
    "    print(\"The number is not a Perfect number!\")"
   ]
  },
  {
   "cell_type": "code",
   "execution_count": 1,
   "metadata": {},
   "outputs": [],
   "source": [
    "marks=int(input(\"Enter marks of the student: \"))\n",
    "if(marks>=90):\n",
    "    print(\"Grade: O\")\n",
    "elif(marks>=80&marks<90):\n",
    "    print(\"Grade: E\")\n",
    "elif(marks>=70&marks<80):\n",
    "    print(\"Grade: A\")\n",
    "elif(marks>=60&marks<70):\n",
    "    print(\"Grade: B\")\n",
    "elif(marks>=50&marks<60):\n",
    "    print(\"Grade: C\")\n",
    "elif(marks>=40&marks<50):\n",
    "    print(\"Grade: D\")\n",
    "else:\n",
    "    print(\"Grade: F\")    "
   ]
  },
  {
   "cell_type": "code",
   "execution_count": 2,
   "metadata": {},
   "outputs": [],
   "source": [
    "salary=int(input(\"Enter the salary of the employee\"))\n",
    "if(salary>500000):\n",
    "    print(\"Designation: Sr Manager\")\n",
    "elif(salary>=200000 & salary<400000):\n",
    "    print(\"Designation: Manager\")\n",
    "elif(salary>=50000 & salary<150000):\n",
    "    print(\"Designation: Employee\")\n",
    "else:\n",
    "    print(\"Designation: Clerk\")\n",
    "    \n",
    "\n"
   ]
  },
  {
   "cell_type": "code",
   "execution_count": 1,
   "metadata": {},
   "outputs": [
    {
     "name": "stdout",
     "output_type": "stream",
     "text": [
      "x=10, y=20\n",
      "x=20, y=10\n"
     ]
    }
   ],
   "source": [
    "x = 10\n",
    "y = 20\n",
    "\n",
    "print(f'x={x}, y={y}')\n",
    "\n",
    "x, y = y, x\n",
    "\n",
    "print(f'x={x}, y={y}')"
   ]
  }
 ],
 "metadata": {
  "kernelspec": {
   "display_name": "Python 3",
   "language": "python",
   "name": "python3"
  },
  "language_info": {
   "codemirror_mode": {
    "name": "ipython",
    "version": 3
   },
   "file_extension": ".py",
   "mimetype": "text/x-python",
   "name": "python",
   "nbconvert_exporter": "python",
   "pygments_lexer": "ipython3",
   "version": "3.11.1"
  },
  "orig_nbformat": 4,
  "vscode": {
   "interpreter": {
    "hash": "aee8b7b246df8f9039afb4144a1f6fd8d2ca17a180786b69acc140d282b71a49"
   }
  }
 },
 "nbformat": 4,
 "nbformat_minor": 2
}
