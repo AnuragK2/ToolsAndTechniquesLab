{
 "cells": [
  {
   "cell_type": "code",
   "execution_count": 1,
   "metadata": {},
   "outputs": [
    {
     "name": "stdout",
     "output_type": "stream",
     "text": [
      "Printing without variable - hello!\n",
      "Printing with variable - Hello World!\n",
      "Hello World!. My name is Anurag!\n",
      "My name is 'Aditya'.\n",
      "| Anurag | '\\t' Kumar | \t Best\n"
     ]
    }
   ],
   "source": [
    "string1 = \"Hello World!\"\n",
    "string2 = \"My name is Anurag!\"\n",
    "print(\"Printing without variable - %s\" %'hello!')\n",
    "print(\"Printing with variable - %s\" %(string1))\n",
    "print(\"%s. %s\"%(string1, string2))\n",
    "print(\"My name is %r.\" %'Aditya')\n",
    "print(\"| Anurag | %r Kumar | %s Best\"%('\\t','\\t'))"
   ]
  },
  {
   "cell_type": "code",
   "execution_count": 2,
   "metadata": {},
   "outputs": [
    {
     "name": "stdout",
     "output_type": "stream",
     "text": [
      "My name is Anurag\n",
      "My name is Anurag Kumar\n",
      "My name is Anurag Kumar\n",
      "\n",
      "\n",
      "\n",
      " Object  |   Type   | Quantity\n",
      " Apples  |  Fruit   | 6       \n",
      " Roses   | Flowers  | 10      \n",
      " Chairs  |   Wood   | 20      \n"
     ]
    }
   ],
   "source": [
    "f_name = \"Anurag\"\n",
    "l_name = \"Kumar\"\n",
    "print(\"My name is {0}\".format(f_name))\n",
    "print(\"My name is {0} {1}\".format(f_name, l_name))\n",
    "print(\"My name is {f_name} {l_name}\".format(f_name=f_name, l_name=l_name))\n",
    "print(\"\\n\\n\")\n",
    "print(\"{0:^8} | {1:^8} | {2:^8}\".format('Object', 'Type', 'Quantity'))\n",
    "print(\"{0:^8} | {1:^8} | {2:<8}\".format('Apples', 'Fruit', 6))\n",
    "print(\"{0:^8} | {1:^8} | {2:<8}\".format('Roses', 'Flowers', 10))\n",
    "print(\"{0:^8} | {1:^8} | {2:<8}\".format('Chairs','Wood',20))"
   ]
  },
  {
   "cell_type": "code",
   "execution_count": null,
   "metadata": {},
   "outputs": [],
   "source": [
    "num = float(input(\"Enter a floating point number : \"))\n",
    "print(\"%.2f\" %num)\n",
    "print(\"%5.3f\" %num)\n",
    "print(\"%2.4f\" %num)\n",
    "print(\"{0:.3f}\".format(num))\n",
    "print(\"{0:.2f}\".format(num))\n",
    "print(\"{0:.1f}\".format(num))\n",
    "print(f\"{num:.{6}}\")\n",
    "print(f\"{num:.{7}}\")\n",
    "print(f\"{num:.{8}}\")"
   ]
  }
 ],
 "metadata": {
  "kernelspec": {
   "display_name": "Python 3",
   "language": "python",
   "name": "python3"
  },
  "language_info": {
   "codemirror_mode": {
    "name": "ipython",
    "version": 3
   },
   "file_extension": ".py",
   "mimetype": "text/x-python",
   "name": "python",
   "nbconvert_exporter": "python",
   "pygments_lexer": "ipython3",
   "version": "3.11.1"
  },
  "orig_nbformat": 4,
  "vscode": {
   "interpreter": {
    "hash": "366fc43e61dc3e1cf3ac432936cc45eb1586b2ea335d1b3e1c18de6c8b76373d"
   }
  }
 },
 "nbformat": 4,
 "nbformat_minor": 2
}
