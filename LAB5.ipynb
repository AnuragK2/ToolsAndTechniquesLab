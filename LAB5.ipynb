{
 "cells": [
  {
   "cell_type": "code",
   "execution_count": 16,
   "metadata": {},
   "outputs": [
    {
     "name": "stdout",
     "output_type": "stream",
     "text": [
      "All Keys: dict_keys(['Name', 'Age', 'City', 'verifiedUser'])\n",
      "All Values: dict_values(['Anurag', 20, 'Bhubaneswar', True])\n",
      "All Items: dict_items([('Name', 'Anurag'), ('Age', 20), ('City', 'Bhubaneswar'), ('verifiedUser', True)])\n"
     ]
    }
   ],
   "source": [
    "myDict = {}\n",
    "myDict[\"Name\"] = \"Anurag\"\n",
    "myDict[\"Age\"] = 20\n",
    "myDict[\"City\"] = \"Bhubaneswar\"\n",
    "myDict[\"verifiedUser\"] = True\n",
    "print(\"All Keys:\", myDict.keys())\n",
    "print(\"All Values:\", myDict.values())\n",
    "print(\"All Items:\", myDict.items())"
   ]
  },
  {
   "cell_type": "code",
   "execution_count": 18,
   "metadata": {},
   "outputs": [
    {
     "name": "stdout",
     "output_type": "stream",
     "text": [
      "2\n",
      "n\n",
      "l\n",
      "8\n",
      "['a', 'p', 'p', 'l', 'e']\n"
     ]
    }
   ],
   "source": [
    "d1 = {'k1': 'value1', 'k2': {'k2a': 'apple', 'k2b': 123, 'k2c': [1, 2, 3]}, 'k3': [4, 'orange', 5]}\n",
    "# (i) Grab the 2nd element from the value of key ‘k2c’\n",
    "print(d1['k2']['k2c'][1])\n",
    "# (ii) Grab the 4th element from the value of k3’s 2nd element\n",
    "print(d1['k3'][1][3])\n",
    "# (iii) Grab the letter ‘l’ from ‘apple’\n",
    "print(d1['k2']['k2a'][3])\n",
    "# (iv) Add 5 to the last element of value of ‘k2c’\n",
    "d1['k2']['k2c'][-1] += 5\n",
    "print(d1['k2']['k2c'][-1])\n",
    "# (v) Convert the word ‘apple’ to a list of characters\n",
    "d1['k2']['k2a'] = list(d1['k2']['k2a'])\n",
    "print(d1['k2']['k2a'])"
   ]
  },
  {
   "cell_type": "code",
   "execution_count": 8,
   "metadata": {},
   "outputs": [
    {
     "name": "stdout",
     "output_type": "stream",
     "text": [
      "Original tuple: (1, 'Hello', [1, 2, 3], 3.14)\n",
      "Error: 'tuple' object does not support item assignment\n",
      "Tuple after modification attempt: (1, 'Hello', [1, 2, 3], 3.14)\n"
     ]
    }
   ],
   "source": [
    "t = (1, \"Hello\", [1, 2, 3], 3.14)\n",
    "print(\"Original tuple:\", t)\n",
    "try:\n",
    "    t[0] = 5\n",
    "except TypeError as e:\n",
    "    print(\"Error:\", e)\n",
    "print(\"Tuple after modification attempt:\", t)"
   ]
  },
  {
   "cell_type": "code",
   "execution_count": 9,
   "metadata": {},
   "outputs": [
    {
     "name": "stdout",
     "output_type": "stream",
     "text": [
      "Slicing operation 1: (30, 40, 50)\n",
      "Slicing operation 2: (10, 20, 30, 40, 50)\n",
      "Slicing operation 3: (40, 50, 60)\n",
      "Slicing operation 4: (10, 30, 50)\n",
      "Slicing operation 5: (60, 50, 40, 30, 20, 10)\n"
     ]
    }
   ],
   "source": [
    "t = (10, 20, 30, 40, 50, 60)\n",
    "print(\"Slicing operation 1:\", t[2:5])\n",
    "print(\"Slicing operation 2:\", t[:5])\n",
    "print(\"Slicing operation 3:\", t[3:])\n",
    "print(\"Slicing operation 4:\", t[::2])\n",
    "print(\"Slicing operation 5:\", t[::-1])"
   ]
  },
  {
   "cell_type": "code",
   "execution_count": 10,
   "metadata": {},
   "outputs": [
    {
     "name": "stdout",
     "output_type": "stream",
     "text": [
      "Set:  {1, 2, 3, 4, 5}\n",
      "Set after adding 3: \n"
     ]
    },
    {
     "data": {
      "text/plain": [
       "(None, {1, 2, 3, 4, 5})"
      ]
     },
     "execution_count": 10,
     "metadata": {},
     "output_type": "execute_result"
    }
   ],
   "source": [
    "s = set([1, 2, 3, 4, 5])\n",
    "print(\"Set: \", s)\n",
    "s.add(3)\n",
    "print(\"Set after adding 3: \"), s"
   ]
  },
  {
   "cell_type": "code",
   "execution_count": 11,
   "metadata": {},
   "outputs": [
    {
     "data": {
      "text/plain": [
       "{1: 'one', 2: 'two', 3: 'three', 4: 'four', 5: 'five'}"
      ]
     },
     "execution_count": 11,
     "metadata": {},
     "output_type": "execute_result"
    }
   ],
   "source": [
    "keys = [1, 2, 3, 4, 5]\n",
    "values = [\"one\", \"two\", \"three\", \"four\", \"five\"]\n",
    "dict_from_lists = dict(zip(keys, values))\n",
    "dict_from_lists"
   ]
  },
  {
   "cell_type": "code",
   "execution_count": 12,
   "metadata": {},
   "outputs": [
    {
     "data": {
      "text/plain": [
       "{'a': 1, 'b': 2, 'c': 3, 'd': 4, 'e': 5, 'f': 6}"
      ]
     },
     "execution_count": 12,
     "metadata": {},
     "output_type": "execute_result"
    }
   ],
   "source": [
    "dict1 = {'a': 1, 'b': 2, 'c': 3}\n",
    "dict2 = {'d': 4, 'e': 5, 'f': 6}\n",
    "merged_dict = {**dict1, **dict2}\n",
    "merged_dict"
   ]
  },
  {
   "cell_type": "code",
   "execution_count": 17,
   "metadata": {},
   "outputs": [
    {
     "name": "stdout",
     "output_type": "stream",
     "text": [
      "[1, 2, 3, 1, 4, 2, 5, 6, 7, 8, 9, 10, 1, 2, 3]\n",
      "Unique List: [1, 2, 3, 4, 5, 6, 7, 8, 9, 10]\n"
     ]
    }
   ],
   "source": [
    "def unique_elements(list1):\n",
    "    unique_list = []\n",
    "    for item in list1:\n",
    "        if item not in unique_list:\n",
    "            unique_list.append(item)\n",
    "    return unique_list\n",
    "list1 = [1, 2, 3, 1, 4, 2, 5, 6, 7, 8, 9, 10, 1, 2, 3]\n",
    "print(list1)\n",
    "print(\"Unique List:\", unique_elements(list1))"
   ]
  },
  {
   "cell_type": "code",
   "execution_count": 14,
   "metadata": {},
   "outputs": [
    {
     "data": {
      "text/plain": [
       "[1, 2, [3, 4, 'goodbye']]"
      ]
     },
     "execution_count": 14,
     "metadata": {},
     "output_type": "execute_result"
    }
   ],
   "source": [
    "list3 = [1, 2, [3, 4, 'hello']]\n",
    "list3[2][2] = 'goodbye'\n",
    "list3"
   ]
  },
  {
   "cell_type": "code",
   "execution_count": 15,
   "metadata": {},
   "outputs": [
    {
     "data": {
      "text/plain": [
       "'hello'"
      ]
     },
     "execution_count": 15,
     "metadata": {},
     "output_type": "execute_result"
    }
   ],
   "source": [
    "d = {'k1':[1,2,{'k2':['this is tricky',{'tough':[1,2,['hello']]}]}]}\n",
    "result = d['k1'][2]['k2'][1]['tough'][2][0]\n",
    "result"
   ]
  }
 ],
 "metadata": {
  "kernelspec": {
   "display_name": "Python 3",
   "language": "python",
   "name": "python3"
  },
  "language_info": {
   "codemirror_mode": {
    "name": "ipython",
    "version": 3
   },
   "file_extension": ".py",
   "mimetype": "text/x-python",
   "name": "python",
   "nbconvert_exporter": "python",
   "pygments_lexer": "ipython3",
   "version": "3.11.1 (v3.11.1:a7a450f84a, Dec  6 2022, 15:24:06) [Clang 13.0.0 (clang-1300.0.29.30)]"
  },
  "orig_nbformat": 4,
  "vscode": {
   "interpreter": {
    "hash": "aee8b7b246df8f9039afb4144a1f6fd8d2ca17a180786b69acc140d282b71a49"
   }
  }
 },
 "nbformat": 4,
 "nbformat_minor": 2
}
